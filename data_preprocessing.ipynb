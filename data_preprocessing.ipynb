{
  "nbformat": 4,
  "nbformat_minor": 0,
  "metadata": {
    "colab": {
      "name": "data preprocessing",
      "provenance": [],
      "collapsed_sections": []
    },
    "kernelspec": {
      "name": "python3",
      "display_name": "Python 3"
    }
  },
  "cells": [
    {
      "cell_type": "code",
      "metadata": {
        "colab": {
          "base_uri": "https://localhost:8080/"
        },
        "id": "ZUS-Qg5mHG4H",
        "outputId": "0b945b7f-2578-4b44-9440-620a9e7e7e29"
      },
      "source": [
        "import pandas as pd\n",
        "df=pd.read_csv(\"/content/data.csv\")\n",
        "print(df.head())\n",
        "print(df.shape)#tells the number of rows and columns\n",
        "print(df.isnull())#which col is empty\n",
        "print(df['a'])#to print specific variable\n",
        "print(df['a'].isnull())#to check null values in specific file\n",
        "print(df['a'].isnull().sum())#number of null values in specific variable\n",
        "num_missing=(df[['a','b','c','d','e','f']]==0).sum()\n",
        "print(num_missing)\n",
        "from numpy import nan\n",
        "r=df.replace(nan,0)#to replace nan by zero\n",
        "df.dropna(inplace=True)#to drop entire row with missing value\n",
        "print('after droping data set')#to print this label\n",
        "print(df.shape)\n",
        "missing_value_formats=[\"n.a\",\"?\",\"NA\",\"n/a\",\"na\",\"--\",\"-\"]#to inputs different missing values\n",
        "df= pd.read_csv(\"/content/data.csv\", na_values=missing_value_formats)\n",
        "df.fillna(df.mean(), inplace=True) #to put the mean of column in missing values\n",
        "print('after inputing')\n",
        "print(df.shape)"
      ],
      "execution_count": null,
      "outputs": [
        {
          "output_type": "stream",
          "text": [
            "   a      b     c   d    e     f      g   h  i\n",
            "0  6  148.0  72.0  35    0   NaN  0.627  50  1\n",
            "1  1   85.0   NaN  29    0  26.6  0.351  31  0\n",
            "2  8  183.0   NaN   0    0  23.3  0.672  32  1\n",
            "3  1   89.0  66.0  23   94  28.1  0.167  21  0\n",
            "4  0    NaN  40.0  35  168  43.1  2.288  33  1\n",
            "(768, 9)\n",
            "         a      b      c      d      e      f      g      h      i\n",
            "0    False  False  False  False  False   True  False  False  False\n",
            "1    False  False   True  False  False  False  False  False  False\n",
            "2    False  False   True  False  False  False  False  False  False\n",
            "3    False  False  False  False  False  False  False  False  False\n",
            "4    False   True  False  False  False  False  False  False  False\n",
            "..     ...    ...    ...    ...    ...    ...    ...    ...    ...\n",
            "763  False  False  False  False  False  False  False  False  False\n",
            "764  False  False  False  False  False  False  False  False  False\n",
            "765  False  False  False  False  False  False  False  False  False\n",
            "766  False  False  False  False  False  False  False  False  False\n",
            "767  False  False  False  False  False  False  False  False  False\n",
            "\n",
            "[768 rows x 9 columns]\n",
            "0       6\n",
            "1       1\n",
            "2       8\n",
            "3       1\n",
            "4       0\n",
            "       ..\n",
            "763    10\n",
            "764     2\n",
            "765     5\n",
            "766     1\n",
            "767     1\n",
            "Name: a, Length: 768, dtype: int64\n",
            "0      False\n",
            "1      False\n",
            "2      False\n",
            "3      False\n",
            "4      False\n",
            "       ...  \n",
            "763    False\n",
            "764    False\n",
            "765    False\n",
            "766    False\n",
            "767    False\n",
            "Name: a, Length: 768, dtype: bool\n",
            "0\n",
            "a    111\n",
            "b      5\n",
            "c     35\n",
            "d    227\n",
            "e    374\n",
            "f     11\n",
            "dtype: int64\n",
            "after droping data set\n",
            "(760, 9)\n",
            "after inputing\n",
            "(768, 9)\n"
          ],
          "name": "stdout"
        }
      ]
    },
    {
      "cell_type": "code",
      "metadata": {
        "id": "plUGlMQWLazm"
      },
      "source": [
        ""
      ],
      "execution_count": null,
      "outputs": []
    }
  ]
}